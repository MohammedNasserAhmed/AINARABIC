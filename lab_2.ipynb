{
  "nbformat": 4,
  "nbformat_minor": 0,
  "metadata": {
    "colab": {
      "provenance": [],
      "authorship_tag": "ABX9TyNAn61bGOwo6P5HBBi54Iwz",
      "include_colab_link": true
    },
    "kernelspec": {
      "name": "python3",
      "display_name": "Python 3"
    },
    "language_info": {
      "name": "python"
    }
  },
  "cells": [
    {
      "cell_type": "markdown",
      "metadata": {
        "id": "view-in-github",
        "colab_type": "text"
      },
      "source": [
        "<a href=\"https://colab.research.google.com/github/MohammedNasserAhmed/AINARABIC/blob/main/lab_2.ipynb\" target=\"_parent\"><img src=\"https://colab.research.google.com/assets/colab-badge.svg\" alt=\"Open In Colab\"/></a>"
      ]
    },
    {
      "cell_type": "code",
      "source": [
        "!pip install firecrawl anthropic beautifulsoup4 python-dotenv\n"
      ],
      "metadata": {
        "colab": {
          "base_uri": "https://localhost:8080/",
          "height": 1178
        },
        "id": "ujzWUKggn5sX",
        "outputId": "e47d5d51-78c8-4699-81a2-5804d5f200f0"
      },
      "execution_count": 1,
      "outputs": [
        {
          "output_type": "stream",
          "name": "stdout",
          "text": [
            "Collecting firecrawl-py\n",
            "  Downloading firecrawl_py-1.2.1-py3-none-any.whl.metadata (8.3 kB)\n",
            "Collecting anthropic\n",
            "  Downloading anthropic-0.34.1-py3-none-any.whl.metadata (18 kB)\n",
            "Requirement already satisfied: requests in /usr/local/lib/python3.10/dist-packages (from firecrawl-py) (2.32.3)\n",
            "Collecting python-dotenv (from firecrawl-py)\n",
            "  Downloading python_dotenv-1.0.1-py3-none-any.whl.metadata (23 kB)\n",
            "Collecting websockets (from firecrawl-py)\n",
            "  Downloading websockets-13.0.1-cp310-cp310-manylinux_2_5_x86_64.manylinux1_x86_64.manylinux_2_17_x86_64.manylinux2014_x86_64.whl.metadata (6.7 kB)\n",
            "Collecting asyncio (from firecrawl-py)\n",
            "  Downloading asyncio-3.4.3-py3-none-any.whl.metadata (1.7 kB)\n",
            "Requirement already satisfied: nest-asyncio in /usr/local/lib/python3.10/dist-packages (from firecrawl-py) (1.6.0)\n",
            "Requirement already satisfied: anyio<5,>=3.5.0 in /usr/local/lib/python3.10/dist-packages (from anthropic) (3.7.1)\n",
            "Requirement already satisfied: distro<2,>=1.7.0 in /usr/lib/python3/dist-packages (from anthropic) (1.7.0)\n",
            "Collecting httpx<1,>=0.23.0 (from anthropic)\n",
            "  Downloading httpx-0.27.2-py3-none-any.whl.metadata (7.1 kB)\n",
            "Collecting jiter<1,>=0.4.0 (from anthropic)\n",
            "  Downloading jiter-0.5.0-cp310-cp310-manylinux_2_17_x86_64.manylinux2014_x86_64.whl.metadata (3.6 kB)\n",
            "Requirement already satisfied: pydantic<3,>=1.9.0 in /usr/local/lib/python3.10/dist-packages (from anthropic) (2.8.2)\n",
            "Requirement already satisfied: sniffio in /usr/local/lib/python3.10/dist-packages (from anthropic) (1.3.1)\n",
            "Requirement already satisfied: tokenizers>=0.13.0 in /usr/local/lib/python3.10/dist-packages (from anthropic) (0.19.1)\n",
            "Requirement already satisfied: typing-extensions<5,>=4.7 in /usr/local/lib/python3.10/dist-packages (from anthropic) (4.12.2)\n",
            "Requirement already satisfied: idna>=2.8 in /usr/local/lib/python3.10/dist-packages (from anyio<5,>=3.5.0->anthropic) (3.8)\n",
            "Requirement already satisfied: exceptiongroup in /usr/local/lib/python3.10/dist-packages (from anyio<5,>=3.5.0->anthropic) (1.2.2)\n",
            "Requirement already satisfied: certifi in /usr/local/lib/python3.10/dist-packages (from httpx<1,>=0.23.0->anthropic) (2024.7.4)\n",
            "Collecting httpcore==1.* (from httpx<1,>=0.23.0->anthropic)\n",
            "  Downloading httpcore-1.0.5-py3-none-any.whl.metadata (20 kB)\n",
            "Collecting h11<0.15,>=0.13 (from httpcore==1.*->httpx<1,>=0.23.0->anthropic)\n",
            "  Downloading h11-0.14.0-py3-none-any.whl.metadata (8.2 kB)\n",
            "Requirement already satisfied: annotated-types>=0.4.0 in /usr/local/lib/python3.10/dist-packages (from pydantic<3,>=1.9.0->anthropic) (0.7.0)\n",
            "Requirement already satisfied: pydantic-core==2.20.1 in /usr/local/lib/python3.10/dist-packages (from pydantic<3,>=1.9.0->anthropic) (2.20.1)\n",
            "Requirement already satisfied: huggingface-hub<1.0,>=0.16.4 in /usr/local/lib/python3.10/dist-packages (from tokenizers>=0.13.0->anthropic) (0.23.5)\n",
            "Requirement already satisfied: charset-normalizer<4,>=2 in /usr/local/lib/python3.10/dist-packages (from requests->firecrawl-py) (3.3.2)\n",
            "Requirement already satisfied: urllib3<3,>=1.21.1 in /usr/local/lib/python3.10/dist-packages (from requests->firecrawl-py) (2.0.7)\n",
            "Requirement already satisfied: filelock in /usr/local/lib/python3.10/dist-packages (from huggingface-hub<1.0,>=0.16.4->tokenizers>=0.13.0->anthropic) (3.15.4)\n",
            "Requirement already satisfied: fsspec>=2023.5.0 in /usr/local/lib/python3.10/dist-packages (from huggingface-hub<1.0,>=0.16.4->tokenizers>=0.13.0->anthropic) (2024.6.1)\n",
            "Requirement already satisfied: packaging>=20.9 in /usr/local/lib/python3.10/dist-packages (from huggingface-hub<1.0,>=0.16.4->tokenizers>=0.13.0->anthropic) (24.1)\n",
            "Requirement already satisfied: pyyaml>=5.1 in /usr/local/lib/python3.10/dist-packages (from huggingface-hub<1.0,>=0.16.4->tokenizers>=0.13.0->anthropic) (6.0.2)\n",
            "Requirement already satisfied: tqdm>=4.42.1 in /usr/local/lib/python3.10/dist-packages (from huggingface-hub<1.0,>=0.16.4->tokenizers>=0.13.0->anthropic) (4.66.5)\n",
            "Downloading firecrawl_py-1.2.1-py3-none-any.whl (15 kB)\n",
            "Downloading anthropic-0.34.1-py3-none-any.whl (891 kB)\n",
            "\u001b[2K   \u001b[90m━━━━━━━━━━━━━━━━━━━━━━━━━━━━━━━━━━━━━━━━\u001b[0m \u001b[32m891.5/891.5 kB\u001b[0m \u001b[31m22.2 MB/s\u001b[0m eta \u001b[36m0:00:00\u001b[0m\n",
            "\u001b[?25hDownloading httpx-0.27.2-py3-none-any.whl (76 kB)\n",
            "\u001b[2K   \u001b[90m━━━━━━━━━━━━━━━━━━━━━━━━━━━━━━━━━━━━━━━━\u001b[0m \u001b[32m76.4/76.4 kB\u001b[0m \u001b[31m5.1 MB/s\u001b[0m eta \u001b[36m0:00:00\u001b[0m\n",
            "\u001b[?25hDownloading httpcore-1.0.5-py3-none-any.whl (77 kB)\n",
            "\u001b[2K   \u001b[90m━━━━━━━━━━━━━━━━━━━━━━━━━━━━━━━━━━━━━━━━\u001b[0m \u001b[32m77.9/77.9 kB\u001b[0m \u001b[31m4.1 MB/s\u001b[0m eta \u001b[36m0:00:00\u001b[0m\n",
            "\u001b[?25hDownloading jiter-0.5.0-cp310-cp310-manylinux_2_17_x86_64.manylinux2014_x86_64.whl (318 kB)\n",
            "\u001b[2K   \u001b[90m━━━━━━━━━━━━━━━━━━━━━━━━━━━━━━━━━━━━━━━━\u001b[0m \u001b[32m318.9/318.9 kB\u001b[0m \u001b[31m19.2 MB/s\u001b[0m eta \u001b[36m0:00:00\u001b[0m\n",
            "\u001b[?25hDownloading asyncio-3.4.3-py3-none-any.whl (101 kB)\n",
            "\u001b[2K   \u001b[90m━━━━━━━━━━━━━━━━━━━━━━━━━━━━━━━━━━━━━━━━\u001b[0m \u001b[32m101.8/101.8 kB\u001b[0m \u001b[31m6.8 MB/s\u001b[0m eta \u001b[36m0:00:00\u001b[0m\n",
            "\u001b[?25hDownloading python_dotenv-1.0.1-py3-none-any.whl (19 kB)\n",
            "Downloading websockets-13.0.1-cp310-cp310-manylinux_2_5_x86_64.manylinux1_x86_64.manylinux_2_17_x86_64.manylinux2014_x86_64.whl (157 kB)\n",
            "\u001b[2K   \u001b[90m━━━━━━━━━━━━━━━━━━━━━━━━━━━━━━━━━━━━━━━━\u001b[0m \u001b[32m157.3/157.3 kB\u001b[0m \u001b[31m10.0 MB/s\u001b[0m eta \u001b[36m0:00:00\u001b[0m\n",
            "\u001b[?25hDownloading h11-0.14.0-py3-none-any.whl (58 kB)\n",
            "\u001b[2K   \u001b[90m━━━━━━━━━━━━━━━━━━━━━━━━━━━━━━━━━━━━━━━━\u001b[0m \u001b[32m58.3/58.3 kB\u001b[0m \u001b[31m3.9 MB/s\u001b[0m eta \u001b[36m0:00:00\u001b[0m\n",
            "\u001b[?25hInstalling collected packages: asyncio, websockets, python-dotenv, jiter, h11, httpcore, firecrawl-py, httpx, anthropic\n",
            "Successfully installed anthropic-0.34.1 asyncio-3.4.3 firecrawl-py-1.2.1 h11-0.14.0 httpcore-1.0.5 httpx-0.27.2 jiter-0.5.0 python-dotenv-1.0.1 websockets-13.0.1\n"
          ]
        },
        {
          "output_type": "display_data",
          "data": {
            "application/vnd.colab-display-data+json": {
              "pip_warning": {
                "packages": [
                  "asyncio"
                ]
              },
              "id": "e8877e7938e24abfa99c83a5c2c873e8"
            }
          },
          "metadata": {}
        }
      ]
    },
    {
      "cell_type": "code",
      "execution_count": 2,
      "metadata": {
        "id": "PSMgwoRWnofY"
      },
      "outputs": [],
      "source": [
        "import os\n",
        "import time\n",
        "from firecrawl import FirecrawlApp\n",
        "import json\n",
        "import anthropic\n",
        "from bs4 import BeautifulSoup\n",
        "from datetime import datetime\n",
        "from typing import Optional, List\n",
        "import re\n",
        "import textwrap\n",
        "from IPython.display import Markdown\n",
        "from dotenv import load_dotenv\n",
        "load_dotenv()\n",
        "\n",
        "anthropic_api_key = os.getenv(\"ANTHROPIC_API_KEY\") or \"\"\n",
        "firecrawl_api_key = os.getenv(\"FIRECRAWL_API_KEY\") or \"\""
      ]
    },
    {
      "cell_type": "code",
      "source": [
        "import sys\n",
        "sys.stdout.encoding = 'utf-8'"
      ],
      "metadata": {
        "id": "GbmOntXlsspr"
      },
      "execution_count": 3,
      "outputs": []
    },
    {
      "cell_type": "code",
      "source": [
        "url=u\"https://www.aljazeera.net/opinions/2024/3/9/%D8%A7%D9%84%D8%B0%D9%83%D8%A7%D8%A1-%D8%A7%D9%84%D8%A7%D8%B5%D8%B7%D9%86%D8%A7%D8%B9%D9%8A-%D8%A3%D8%A8%D8%B9%D8%AF-%D9%85%D9%86-%D9%83%D9%88%D9%86%D9%87-%D9%85%D8%AC%D8%B1%D8%AF\""
      ],
      "metadata": {
        "id": "VbOUW4VmsEXF"
      },
      "execution_count": 4,
      "outputs": []
    },
    {
      "cell_type": "code",
      "source": [
        "client=anthropic.Client(api_key=anthropic_api_key)\n",
        "app = FirecrawlApp(api_key=firecrawl_api_key)"
      ],
      "metadata": {
        "id": "KM7mAWCCswi_"
      },
      "execution_count": 10,
      "outputs": []
    },
    {
      "cell_type": "code",
      "source": [
        "scrape_result = app.scrape_url(url, params={'formats': ['markdown', 'html']})"
      ],
      "metadata": {
        "id": "YdtgZ8Yvtoh2"
      },
      "execution_count": 11,
      "outputs": []
    },
    {
      "cell_type": "code",
      "source": [
        "def extract_main_content_from_html(html: str) -> str:\n",
        "        soup = BeautifulSoup(html, 'html.parser')\n",
        "\n",
        "        # Remove script and style elements\n",
        "        for script in soup([\"script\", \"style\"]):\n",
        "            script.decompose()\n",
        "\n",
        "        # Find the main content container\n",
        "        main_content = soup.select_one('main#main-content-area')\n",
        "\n",
        "        if main_content:\n",
        "            # Remove unwanted elements (adjust as needed)\n",
        "            for unwanted in main_content.select('.article-info-block,.disclaimer-text, .article-author, .article-dates'):\n",
        "                unwanted.decompose()\n",
        "\n",
        "            # Extract text from all elements that might contain content\n",
        "            content = []\n",
        "            for element in main_content.descendants:\n",
        "                if element.name == 'p':\n",
        "                    content.append(element.get_text().strip())\n",
        "\n",
        "            # Join all content and clean up\n",
        "            full_content = '\\n'.join(content)\n",
        "            full_content = re.sub(r'\\s+', ' ', full_content)  # Replace multiple spaces with single space\n",
        "            full_content = re.sub(r'\\n+', '\\n', full_content)  # Replace multiple newlines with single newline\n",
        "\n",
        "            return full_content.strip()\n",
        "\n",
        "        return \"\"\n",
        "\n",
        "def extract_author_from_html(html: str) -> Optional[str]:\n",
        "        soup = BeautifulSoup(html, 'html.parser')\n",
        "        author_element = soup.select_one('.article-author__name .author-link')\n",
        "        if author_element:\n",
        "            return author_element.text.strip()\n",
        "        return None\n",
        "\n",
        "def extract_date_from_html(html: str) -> Optional[datetime.date]:\n",
        "    soup = BeautifulSoup(html, 'html.parser')\n",
        "    date_element = soup.select_one('.article-dates__published')\n",
        "    if date_element:\n",
        "        date_str = date_element.text.strip()\n",
        "        try:\n",
        "            # Assuming the date format is always DD/MM/YYYY\n",
        "            return datetime.strptime(date_str, '%d/%m/%Y').date()\n",
        "        except ValueError:\n",
        "            print(f\"Error parsing date: {date_str}\")\n",
        "            return None\n",
        "    return None\n",
        "\n",
        "\n",
        "def save(data):\n",
        "    with open('output.md', 'w', encoding='utf-8') as file:\n",
        "        file.write(data)\n",
        "\n",
        "    # Save markdown as .json file\n",
        "    with open('output.json', 'w', encoding='utf-8') as f:\n",
        "        json.dump(data, f, ensure_ascii=False, indent=4)\n",
        "\n",
        "def format_data_dict_to_markdown(data_dict):\n",
        "  markdown_text = \"\"\n",
        "  for key, value in data_dict.items():\n",
        "    if value:\n",
        "      markdown_text += f\"**{key}:** {value}\\n\"\n",
        "  return markdown_text\n",
        "\n",
        "def to_markdown(text):\n",
        "  text = text.replace('•', '  *')\n",
        "  return Markdown(textwrap.indent(text, '> ', predicate=lambda _: True))\n"
      ],
      "metadata": {
        "id": "qsJiZcY1iqmo"
      },
      "execution_count": 12,
      "outputs": []
    },
    {
      "cell_type": "code",
      "source": [
        "def extract_author(markdown: str):\n",
        "    # Pattern to match Arabic names, potentially preceded by titles like \"د.\"\n",
        "    author_pattern = r'\\*\\s*(د\\.\\s*)?[\\u0600-\\u06FF\\s]+\\n'\n",
        "    author_match = re.search(author_pattern, markdown)\n",
        "    if author_match:\n",
        "        author = author_match.group().strip('* \\n')\n",
        "        return author.strip()\n",
        "    return None\n",
        "\n",
        "def extract_date(text):\n",
        "    # This is a simple date extraction. You might need to adjust it based on the actual date format in your content.\n",
        "    date_match = re.search(r'\\d{4}-\\d{2}-\\d{2}', text)\n",
        "    if date_match:\n",
        "        return datetime.strptime(date_match.group(), '%Y-%m-%d').date()\n",
        "    return None\n",
        "\n",
        "if scrape_result:\n",
        "    print('Collecting data from crawl results:\\n')\n",
        "    html = scrape_result.get('html')\n",
        "    markdown = scrape_result.get('markdown')\n",
        "    metadata = scrape_result.get('metadata')\n",
        "    srcurl = metadata.get('ogUrl')\n",
        "    title = metadata.get('ogTitle')\n",
        "    description = metadata.get('ogDescription')\n",
        "    site=metadata.get('ogSiteName')\n",
        "    clean_content = extract_main_content_from_html(html)\n",
        "    date = extract_date_from_html(html)\n",
        "    author = extract_author_from_html(html)\n",
        "    data_dict = {\n",
        "            'SourceURL': srcurl,\n",
        "            'Title': title,\n",
        "            'Description': description,\n",
        "            'Date': str(date),\n",
        "            'Author': author,\n",
        "            'Site': site,\n",
        "            'MainContent': clean_content\n",
        "        }\n",
        "    data = format_data_dict_to_markdown(data_dict)\n",
        "    save(data)\n",
        "    print(f'Source URL: {data_dict[\"SourceURL\"]}')\n",
        "    print(f'Title: {data_dict[\"Title\"]}')\n",
        "    print(f'Description: {data_dict[\"Description\"]}')\n",
        "    print(f'Date: {data_dict[\"Date\"]}')\n",
        "    print(f'Author: {data_dict[\"Author\"]}')\n",
        "    print(f'Site: {data_dict[\"Site\"]}')\n",
        "    print('Main Content: \\n')\n",
        "to_markdown(clean_content)\n",
        "\n"
      ],
      "metadata": {
        "colab": {
          "base_uri": "https://localhost:8080/",
          "height": 630
        },
        "id": "Vj1tg4i6tzTp",
        "outputId": "512ed91c-02bb-44f2-c701-00d9b48bcb01"
      },
      "execution_count": 18,
      "outputs": [
        {
          "output_type": "stream",
          "name": "stdout",
          "text": [
            "Collecting data from crawl results:\n",
            "\n",
            "Source URL: https://www.aljazeera.net/opinions/2024/3/9/%d8%a7%d9%84%d8%b0%d9%83%d8%a7%d8%a1-%d8%a7%d9%84%d8%a7%d8%b5%d8%b7%d9%86%d8%a7%d8%b9%d9%8a-%d8%a3%d8%a8%d8%b9%d8%af-%d9%85%d9%86-%d9%83%d9%88%d9%86%d9%87-%d9%85%d8%ac%d8%b1%d8%af\n",
            "Title: الذكاء الاصطناعي أبعد من كونه مجرد أعجوبة تكنولوجية\n",
            "Description: العالم دخل فعليًا مرحلة جديدة عنوانها السباق في تكنولوجيا الذكاء الاصطناعي، لكن إذا لم يتم وضع قواعد ناظمة لهذا السباق؛ فإنّه قد يخرج عن السيطرة، ويهدد المعمورة كلها.\n",
            "Date: 2024-03-09\n",
            "Author: د. خالد وليد محمود\n",
            "Site: الجزيرة نت\n",
            "Main Content: \n",
            "\n"
          ]
        },
        {
          "output_type": "execute_result",
          "data": {
            "text/plain": [
              "<IPython.core.display.Markdown object>"
            ],
            "text/markdown": "> مما لا شكّ فيه فقد أصبح الذكاء الاصطناعي الشغل الشاغل لغالبية حكومات الدول المتقدّمة؛ لإدراكها أن العالم يقف عند فجر حقبة جديدة، ستغيّر حياة البشرية والطريقة التي تعيش وتعمل بها في عدد كبير من المجالات والقطاعات المختلفة، مع الإقرار في نفس الوقت بأن مخاطر هذه الحقبة لا تزال مجهولة أيضًا. فلا مبالغة بالقول إن العالم دخل فعليًا مرحلة جديدة عنوانها السباق في تكنولوجيا الذكاء الاصطناعي، لكن إذا لم يتم وضع قواعد ناظمة لهذا السباق؛ فإنّه قد يخرج عن السيطرة، ويهدد المعمورة كلها؛ لأنه يثير العديد من المخاطر والتهديدات الأمنية والأخلاقية؛ نتيجة الاعتماد المتزايد عليه. ليس صدفة أن أكبر الاستثمارات فيه التي يقوم بها العملاقان المتنافسان، الولايات المتحدة والصين، هي في هذا المجال كما أن التطبيقات الضخمة لهذا الذكاء، تعد تمهيدًا لحرب ناعمة بين الآلة والإنسان، ولا يمكن قراءة استقالة \"جيفري هينتون\" – الذي يطلق عليه \"الأب الروحي للذكاء الاصطناعي\" من شركة غوغل أوائل مايو 2023 – إلا في سياق \"جرس الإنذار\" الذي ينبّه البشرية إلى تلك المخاطر العديدة المتعلّقة بالذكاء الاصطناعي. التقديرات تشير إلى أن حوالي 800 مليون شخص سيفقدون وظائفهم خلال الأعوام المقبلة؛ بسبب تطوير الشركات التكنولوجية العملاقة جيلًا جديدًا من البشر الرقْميّين الذين سيتفوقون على العُمّال والمُحترفين من البشر، بل يتوقّع بعض العلماء أن يحلّ الذكاء الاصطناعي، مكان البشر في 99% من الوظائف في غضون العقدين المقبِلين. المعروف أن الذكاء الاصطناعي ليس قضية اقتصادية فقط، ولا هو مجرد الروبوت – وأليكسا وأمازون – الذي يخدمك في منزلك أو يراجع جدول الضرب مع أطفالك، أو تلك التكنولوجيا التي تؤسّس لثورة طبية جديدة، أو التعليم والصناعة، أو المركبات التي تعمل من دون سائق؛ بل إنه أيضًا أداة سيطرة وهمينة وفرض نفوذ من خلال التكنولوجيا العسكرية والدفاعية الصاعدة. إذ ليس صدفة أن أكبر الاستثمارات فيه التي يقوم بها العملاقان المتنافسان، الولايات المتحدة والصين، هي في هذا المجال. فالعالم بأجمعه يعرف غوغل، ومايكروسوفت، وأمازون، والبعض فقط يعرف علي بابا، وبايدو، وتنسنت الصينية المهمة بالقدر نفسه، هذا دون احتساب مراكز البحث المتخصصة المرتبطة بها. قبل عقدين من الزمان كان الحديث عن طموحات الذكاء الاصطناعي والروبوتات بديلًا للعقل البشري – أو على الأقل تدريب الآلة لتنفّذ ما يقوم بعمله الإنسان أو العامل أو الموظف في مناحي الحياة – يقابل إما بالاستخفاف والتقليل من الأهمية من غير المتخصصين والمهتمين، بينما كان يرى الجانب الآخر من المتخصصين، أن الأمر لا يزيد على مجرد ضرب من ضروب الخيال العلمي أو الفانتازيا الهوليودية. اليوم يترقب العالم بحذر تطورات التنافس في هذا المجال \"الذكاء الاصطناعي\"؛ لأنّ من سيقوده، سيمسك بزمام الثورة الصناعية الخامسة. في ظل اقترابنا من بداية حقبة جديدة، يظهر مستقبل الذكاء الاصطناعي في الأفق بإمكانات واسعة وعمق متنوع. في هذا السياق المتسارع التطور، أصبح الذكاء الاصطناعي ليس مجرد تكنولوجيا مدهشة، بل أصبح ركيزة حاسمة للمستقبل الذي كان يومًا ما خيالًا علميًا. فمن الخوارزميات المتطورة التي تدعم تفاعلاتنا الرقمية اليومية، إلى العوالم الناشئة للمركبات ذاتية القيادة والروبوتات المتقدمة، يعيد الذكاء الاصطناعي تشكيل عالمنا بطرق فريدة. وبدلًا من كونه مجرد سرد للقدرات التكنولوجية، يمثل مستقبل الذكاء الاصطناعي تفاعلًا معقدًا يشمل الابتكار، وتأثيره الواسع في المجتمع، والمسؤولية الأخلاقية. ووفق هذا المشهد سريع التطور، لا يعد الذكاء الاصطناعي اليوم مجرد أعجوبة تكنولوجية – في ظل معطيات تتحدث عن توقعات بشأن وصول الإنفاق العالمي على أنظمة الذكاء الاصطناعي إلى حوالي 300 مليار دولار بحلول 2026 – بل أصبح مهندسًا محوريًا للمستقبل الذي كان ذات يوم عالمًا من الخيال العلمي. مع الأخذ بعين الاعتبار أن هناك طفرة واسعة في تقنيات وتطبيقات الذكاء الاصطناعي، ستؤدي إلى تحولات متسارعة في أسواق العمل، وتخلق مزيدًا من المخاوف بشأن المنافسة بين البشر وتلك التطبيقات، وسط تنافس وسباق محموم بين شركات عمالقة التكنولوجيا على تطوير تقنيات متقدمة، يُمكنها مواصلة الثورة التي يصنعها الذكاء الاصطناعي في الأسواق العالمية. ويبقى السؤال المعلق أين العرب من هذا المشهد؟ صحيح أن المؤشر العالمي للذكاء الاصطناعي من Tortoise Intelligence وضع كلًا من السعودية، والإمارات، وقطر، والبحرين في المراتب الأولى عربيًا بوصفها دولًا لها بصمة في هذا المجال، لكنّ كثيرًا من الدول العربية ما زالت خجولة في تبنّي الذكاء الاصطناعي، وكأنها منفصلة عن الواقع بمستويات مختلفة. إنّ الاقتصاد المستقبلي هو اقتصاد معرفي (تقني – رقمي)، وفي حال بقيت دول بعيدة عما يجري في عالم الذكاء الاصطناعي وتطبيقاته، فستكون منفصلة عن هذا الواقع، وبعيدة كل البعد عمّا يحصل من تطوّر على مستوى الثورة الصناعية الرابعة.. فهل نحن فاعلون؟"
          },
          "metadata": {},
          "execution_count": 18
        }
      ]
    },
    {
      "cell_type": "code",
      "source": [
        "to_markdown(scrape_result.get('markdown'))"
      ],
      "metadata": {
        "colab": {
          "base_uri": "https://localhost:8080/",
          "height": 1000
        },
        "id": "GQauG2wM_A34",
        "outputId": "3d0af437-bf3e-43fb-a599-3044014bbd24"
      },
      "execution_count": 22,
      "outputs": [
        {
          "output_type": "execute_result",
          "data": {
            "text/plain": [
              "<IPython.core.display.Markdown object>"
            ],
            "text/markdown": "> *   [![د. خالد وليد محمود](https://www.aljazeera.net/wp-content/uploads/2000/01/fc0b5066-dc60-4378-bc48-43a5ef320b6a.jpeg?resize=96%2C96&quality=80)](/author/%d8%ae%d8%a7%d9%84%d8%af_%d9%88%d9%84%d9%8a%d8%af_%d9%85%d8%ad%d9%85%d9%88%d8%af)\n>     \n>     [د. خالد وليد محمود](/author/%d8%ae%d8%a7%d9%84%d8%af_%d9%88%d9%84%d9%8a%d8%af_%d9%85%d8%ad%d9%85%d9%88%d8%af)\n>     \n>     متخصص في السياسة السيبرانية\n>     \n> \n> 9/3/2024\\-|آخر تحديث: 9/3/202412:07 ص (بتوقيت مكة المكرمة)\n> \n> احفظ المقالات لقراءتها لاحقا وأنشئ قائمة قراءتك\n> \n> إغلاق تلميح الأدوات\n> \n> [facebook](https://www.facebook.com/sharer/sharer.php?u=https%3A%2F%2Faja.ws%2F5krdco)\n> [twitter](https://twitter.com/intent/tweet?text=%D8%A7%D9%84%D8%B0%D9%83%D8%A7%D8%A1%20%D8%A7%D9%84%D8%A7%D8%B5%D8%B7%D9%86%D8%A7%D8%B9%D9%8A%20%D8%A3%D8%A8%D8%B9%D8%AF%20%D9%85%D9%86%20%D9%83%D9%88%D9%86%D9%87%20%D9%85%D8%AC%D8%B1%D8%AF%20%D8%A3%D8%B9%D8%AC%D9%88%D8%A8%D8%A9%20%D8%AA%D9%83%D9%86%D9%88%D9%84%D9%88%D8%AC%D9%8A%D8%A9&source=sharethiscom&related=sharethis&via=AJArabicnet&url=https%3A%2F%2Faja.ws%2F5krdco)\n> [whatsapp](whatsapp://send?text=https%3A%2F%2Faja.ws%2F5krdco)\n> [copylink](https://aja.ws/5krdco)\n> \n> ![Artificial intelligence, futuristic digital technology human and robot face close up, digital smart world metaverse concept](https://www.aljazeera.net/wp-content/uploads/2023/10/fafsfasf-2-1698767641.jpg?resize=770%2C513&quality=80)\n> \n> الذكاء الاصطناعي والتكنولوجيا الرقمية المستقبلية وجه الإنسان والروبوت عن قرب (شترستوك)\n> \n> مما لا شكّ فيه فقد أصبح الذكاء الاصطناعي الشغل الشاغل لغالبية حكومات الدول المتقدّمة؛ لإدراكها أن العالم يقف عند فجر حقبة جديدة، ستغيّر حياة البشرية والطريقة التي تعيش وتعمل بها في عدد كبير من المجالات والقطاعات المختلفة، مع الإقرار في نفس الوقت بأن مخاطر هذه الحقبة لا تزال مجهولة أيضًا.\n> \n> فلا مبالغة بالقول إن العالم دخل فعليًا مرحلة جديدة عنوانها السباق في تكنولوجيا الذكاء الاصطناعي، لكن إذا لم يتم وضع قواعد ناظمة لهذا السباق؛ فإنّه قد يخرج عن السيطرة، ويهدد المعمورة كلها؛ لأنه يثير العديد من المخاطر والتهديدات الأمنية والأخلاقية؛ نتيجة الاعتماد المتزايد عليه.\n> \n> > ليس صدفة أن أكبر الاستثمارات فيه التي يقوم بها العملاقان المتنافسان، الولايات المتحدة والصين، هي في هذا المجال\n> \n> كما أن التطبيقات الضخمة لهذا الذكاء، تعد تمهيدًا لحرب ناعمة بين الآلة والإنسان، ولا يمكن قراءة استقالة \"جيفري هينتون\" – الذي يطلق عليه \"الأب الروحي للذكاء الاصطناعي\" من شركة غوغل أوائل مايو 2023 – إلا في سياق \"جرس الإنذار\" الذي ينبّه البشرية إلى تلك المخاطر العديدة المتعلّقة بالذكاء الاصطناعي.\n> \n> التقديرات تشير إلى أن حوالي 800 مليون شخص سيفقدون وظائفهم خلال الأعوام المقبلة؛ بسبب تطوير الشركات التكنولوجية العملاقة جيلًا جديدًا من البشر الرقْميّين الذين سيتفوقون على العُمّال والمُحترفين من البشر، بل يتوقّع بعض العلماء أن يحلّ الذكاء الاصطناعي، مكان البشر في 99% من الوظائف في غضون العقدين المقبِلين.\n> \n> المعروف أن الذكاء الاصطناعي ليس قضية اقتصادية فقط، ولا هو مجرد الروبوت – وأليكسا وأمازون – الذي يخدمك في منزلك أو يراجع جدول الضرب مع أطفالك، أو تلك التكنولوجيا التي تؤسّس لثورة طبية جديدة، أو التعليم والصناعة، أو المركبات التي تعمل من دون سائق؛ بل إنه أيضًا أداة سيطرة وهمينة وفرض نفوذ من خلال التكنولوجيا العسكرية والدفاعية الصاعدة.\n> \n> إذ ليس صدفة أن أكبر الاستثمارات فيه التي يقوم بها العملاقان المتنافسان، الولايات المتحدة والصين، هي في هذا المجال. فالعالم بأجمعه يعرف غوغل، ومايكروسوفت، وأمازون، والبعض فقط يعرف علي بابا، وبايدو، وتنسنت الصينية المهمة بالقدر نفسه، هذا دون احتساب مراكز البحث المتخصصة المرتبطة بها.\n> \n> قبل عقدين من الزمان كان الحديث عن طموحات الذكاء الاصطناعي والروبوتات بديلًا للعقل البشري – أو على الأقل تدريب الآلة لتنفّذ ما يقوم بعمله الإنسان أو العامل أو الموظف في مناحي الحياة – يقابل إما بالاستخفاف والتقليل من الأهمية من غير المتخصصين والمهتمين، بينما كان يرى الجانب الآخر من المتخصصين، أن الأمر لا يزيد على مجرد ضرب من ضروب الخيال العلمي أو الفانتازيا الهوليودية.\n> \n> اليوم يترقب العالم بحذر تطورات التنافس في هذا المجال \"الذكاء الاصطناعي\"؛ لأنّ من سيقوده، سيمسك بزمام الثورة الصناعية الخامسة.\n> \n> في ظل اقترابنا من بداية حقبة جديدة، يظهر مستقبل الذكاء الاصطناعي في الأفق بإمكانات واسعة وعمق متنوع. في هذا السياق المتسارع التطور، أصبح الذكاء الاصطناعي ليس مجرد تكنولوجيا مدهشة، بل أصبح ركيزة حاسمة للمستقبل الذي كان يومًا ما خيالًا علميًا.\n> \n> ### اشترك في\n> \n> #### النشرة البريدية الأسبوعية: سياسة\n> \n> حصاد سياسي من الجزيرة نت لأهم ملفات المنطقة والعالم.\n> \n> اشترك الآن\n> \n> ![](https://www.aljazeera.net/static/media/error-icon.c8fb9e1b.svg)حدث خطأ في الاشتراك، حاول مرة أخرى\n> \n> ![](https://www.aljazeera.net/static/media/right-mark-icon.3a446adc.svg)الرجاء التحقق من بريدك الإلكتروني لتأكيد الاشتراك\n> \n> عند قيامكم بالتسجيل، فهذا يعني موافقتكم على [سياسة الخصوصية للشبكة](https://privacy.aljazeera.net/ar/)\n> \n> محمي بخدمة **reCAPTCHA**\n> \n> فمن الخوارزميات المتطورة التي تدعم تفاعلاتنا الرقمية اليومية، إلى العوالم الناشئة للمركبات ذاتية القيادة والروبوتات المتقدمة، يعيد الذكاء الاصطناعي تشكيل عالمنا بطرق فريدة. وبدلًا من كونه مجرد سرد للقدرات التكنولوجية، يمثل مستقبل الذكاء الاصطناعي تفاعلًا معقدًا يشمل الابتكار، وتأثيره الواسع في المجتمع، والمسؤولية الأخلاقية.\n> \n> ووفق هذا المشهد سريع التطور، لا يعد الذكاء الاصطناعي اليوم مجرد أعجوبة تكنولوجية – في ظل معطيات تتحدث عن توقعات بشأن وصول الإنفاق العالمي على أنظمة الذكاء الاصطناعي إلى حوالي 300 مليار دولار بحلول 2026 – بل أصبح مهندسًا محوريًا للمستقبل الذي كان ذات يوم عالمًا من الخيال العلمي.\n> \n> مع الأخذ بعين الاعتبار أن هناك طفرة واسعة في تقنيات وتطبيقات الذكاء الاصطناعي، ستؤدي إلى تحولات متسارعة في أسواق العمل، وتخلق مزيدًا من المخاوف بشأن المنافسة بين البشر وتلك التطبيقات، وسط تنافس وسباق محموم بين شركات عمالقة التكنولوجيا على تطوير تقنيات متقدمة، يُمكنها مواصلة الثورة التي يصنعها الذكاء الاصطناعي في الأسواق العالمية.\n> \n> ويبقى السؤال المعلق أين العرب من هذا المشهد؟ صحيح أن المؤشر العالمي للذكاء الاصطناعي من Tortoise Intelligence وضع كلًا من السعودية، والإمارات، وقطر، والبحرين في المراتب الأولى عربيًا بوصفها دولًا لها بصمة في هذا المجال، لكنّ كثيرًا من الدول العربية ما زالت خجولة في تبنّي الذكاء الاصطناعي، وكأنها منفصلة عن الواقع بمستويات مختلفة.\n> \n> إنّ الاقتصاد المستقبلي هو اقتصاد معرفي (تقني – رقمي)، وفي حال بقيت دول بعيدة عما يجري في عالم الذكاء الاصطناعي وتطبيقاته، فستكون منفصلة عن هذا الواقع، وبعيدة كل البعد عمّا يحصل من تطوّر على مستوى الثورة الصناعية الرابعة.. فهل نحن فاعلون؟\n> \n> الآراء الواردة في المقال لا تعكس بالضرورة الموقف التحريري لشبكة الجزيرة.\n> \n> * * *"
          },
          "metadata": {},
          "execution_count": 22
        }
      ]
    }
  ]
}