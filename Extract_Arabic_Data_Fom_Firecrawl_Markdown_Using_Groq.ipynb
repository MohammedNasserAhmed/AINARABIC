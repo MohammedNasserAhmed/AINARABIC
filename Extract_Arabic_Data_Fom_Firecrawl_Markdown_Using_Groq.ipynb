{
  "nbformat": 4,
  "nbformat_minor": 0,
  "metadata": {
    "colab": {
      "provenance": [],
      "authorship_tag": "ABX9TyNb2GQFBhLf6mzsJzBeF0wq",
      "include_colab_link": true
    },
    "kernelspec": {
      "name": "python3",
      "display_name": "Python 3"
    },
    "language_info": {
      "name": "python"
    }
  },
  "cells": [
    {
      "cell_type": "markdown",
      "metadata": {
        "id": "view-in-github",
        "colab_type": "text"
      },
      "source": [
        "<a href=\"https://colab.research.google.com/github/MohammedNasserAhmed/AINARABIC/blob/main/Extract_Arabic_Data_Fom_Firecrawl_Markdown_Using_Groq.ipynb\" target=\"_parent\"><img src=\"https://colab.research.google.com/assets/colab-badge.svg\" alt=\"Open In Colab\"/></a>"
      ]
    },
    {
      "cell_type": "markdown",
      "source": [
        "# **Arabic Information Extraction Using Groq API** ⚓\n",
        "\n",
        "This script extracts specific fields from Arabic documents provided in JSON format using the Groq API. The script loads the data, sends it to the Groq model, and processes the response to extract relevant information.\n",
        "\n",
        "### **Prerequisites** ⛳\n",
        "\n",
        "Make sure you have the following installed:\n",
        "\n",
        "- Required libraries: `groq`, `json`\n",
        "\n",
        "### **Installation** ⏬\n",
        "\n",
        "Install the required libraries:\n"
      ],
      "metadata": {
        "id": "gLFS7k6rplLY"
      }
    },
    {
      "cell_type": "code",
      "execution_count": 1,
      "metadata": {
        "colab": {
          "base_uri": "https://localhost:8080/"
        },
        "id": "fcfSisXOpRDp",
        "outputId": "12ef6905-bf6e-4e4a-b293-3a51c59b299a"
      },
      "outputs": [
        {
          "output_type": "stream",
          "name": "stdout",
          "text": [
            "Collecting groq\n",
            "  Downloading groq-0.10.0-py3-none-any.whl.metadata (13 kB)\n",
            "Requirement already satisfied: anyio<5,>=3.5.0 in /usr/local/lib/python3.10/dist-packages (from groq) (3.7.1)\n",
            "Requirement already satisfied: distro<2,>=1.7.0 in /usr/lib/python3/dist-packages (from groq) (1.7.0)\n",
            "Collecting httpx<1,>=0.23.0 (from groq)\n",
            "  Downloading httpx-0.27.2-py3-none-any.whl.metadata (7.1 kB)\n",
            "Requirement already satisfied: pydantic<3,>=1.9.0 in /usr/local/lib/python3.10/dist-packages (from groq) (2.8.2)\n",
            "Requirement already satisfied: sniffio in /usr/local/lib/python3.10/dist-packages (from groq) (1.3.1)\n",
            "Requirement already satisfied: typing-extensions<5,>=4.7 in /usr/local/lib/python3.10/dist-packages (from groq) (4.12.2)\n",
            "Requirement already satisfied: idna>=2.8 in /usr/local/lib/python3.10/dist-packages (from anyio<5,>=3.5.0->groq) (3.8)\n",
            "Requirement already satisfied: exceptiongroup in /usr/local/lib/python3.10/dist-packages (from anyio<5,>=3.5.0->groq) (1.2.2)\n",
            "Requirement already satisfied: certifi in /usr/local/lib/python3.10/dist-packages (from httpx<1,>=0.23.0->groq) (2024.7.4)\n",
            "Collecting httpcore==1.* (from httpx<1,>=0.23.0->groq)\n",
            "  Downloading httpcore-1.0.5-py3-none-any.whl.metadata (20 kB)\n",
            "Collecting h11<0.15,>=0.13 (from httpcore==1.*->httpx<1,>=0.23.0->groq)\n",
            "  Downloading h11-0.14.0-py3-none-any.whl.metadata (8.2 kB)\n",
            "Requirement already satisfied: annotated-types>=0.4.0 in /usr/local/lib/python3.10/dist-packages (from pydantic<3,>=1.9.0->groq) (0.7.0)\n",
            "Requirement already satisfied: pydantic-core==2.20.1 in /usr/local/lib/python3.10/dist-packages (from pydantic<3,>=1.9.0->groq) (2.20.1)\n",
            "Downloading groq-0.10.0-py3-none-any.whl (106 kB)\n",
            "\u001b[2K   \u001b[90m━━━━━━━━━━━━━━━━━━━━━━━━━━━━━━━━━━━━━━━━\u001b[0m \u001b[32m106.3/106.3 kB\u001b[0m \u001b[31m4.1 MB/s\u001b[0m eta \u001b[36m0:00:00\u001b[0m\n",
            "\u001b[?25hDownloading httpx-0.27.2-py3-none-any.whl (76 kB)\n",
            "\u001b[2K   \u001b[90m━━━━━━━━━━━━━━━━━━━━━━━━━━━━━━━━━━━━━━━━\u001b[0m \u001b[32m76.4/76.4 kB\u001b[0m \u001b[31m4.8 MB/s\u001b[0m eta \u001b[36m0:00:00\u001b[0m\n",
            "\u001b[?25hDownloading httpcore-1.0.5-py3-none-any.whl (77 kB)\n",
            "\u001b[2K   \u001b[90m━━━━━━━━━━━━━━━━━━━━━━━━━━━━━━━━━━━━━━━━\u001b[0m \u001b[32m77.9/77.9 kB\u001b[0m \u001b[31m4.7 MB/s\u001b[0m eta \u001b[36m0:00:00\u001b[0m\n",
            "\u001b[?25hDownloading h11-0.14.0-py3-none-any.whl (58 kB)\n",
            "\u001b[2K   \u001b[90m━━━━━━━━━━━━━━━━━━━━━━━━━━━━━━━━━━━━━━━━\u001b[0m \u001b[32m58.3/58.3 kB\u001b[0m \u001b[31m3.7 MB/s\u001b[0m eta \u001b[36m0:00:00\u001b[0m\n",
            "\u001b[?25hInstalling collected packages: h11, httpcore, httpx, groq\n",
            "Successfully installed groq-0.10.0 h11-0.14.0 httpcore-1.0.5 httpx-0.27.2\n"
          ]
        }
      ],
      "source": [
        "!pip install groq"
      ]
    },
    {
      "cell_type": "markdown",
      "source": [
        "\n",
        "### **Usage** ☕\n",
        "\n",
        "#### *1. Load the Markdown Data*\n",
        "\n",
        "The script begins by loading data from a `markdown.json` file:\n"
      ],
      "metadata": {
        "id": "2VNG8X9Hqi4o"
      }
    },
    {
      "cell_type": "code",
      "source": [
        "import json\n",
        "\n",
        "with open('markdown.json', 'r', encoding='utf-8') as f:\n",
        "    markdown= json.load(f)"
      ],
      "metadata": {
        "id": "bkpidMEHp0-H"
      },
      "execution_count": 6,
      "outputs": []
    },
    {
      "cell_type": "markdown",
      "source": [
        "#### *2. Initialize the Groq Client*\n",
        "\n",
        "Replace `\"API_KEY\"` with your actual Groq API key:*italicized text*"
      ],
      "metadata": {
        "id": "I_UjL_pxqyP3"
      }
    },
    {
      "cell_type": "code",
      "source": [
        "from groq import Groq\n",
        "import os\n",
        "\n",
        "groq_api_key = os.getenv(\"GROQ_API_KEY\") or \"\"\n",
        "client = Groq(\n",
        "    api_key=\"your_groq_api\",  # Replace 'API_KEY' with your actual Groq API key\n",
        ")"
      ],
      "metadata": {
        "id": "4TuBi9ffp008"
      },
      "execution_count": 3,
      "outputs": []
    },
    {
      "cell_type": "markdown",
      "source": [
        "#### *3. Define the Fields to Extract*\n",
        "\n",
        "Specify the fields you want to extract from the document:"
      ],
      "metadata": {
        "id": "4DaCZSScq8E_"
      }
    },
    {
      "cell_type": "code",
      "source": [
        "fields_to_extract = [\"article title\",\"author\", \"date\", \"site name\", \"summary\"]"
      ],
      "metadata": {
        "id": "Y0eD1d3up-0A"
      },
      "execution_count": 12,
      "outputs": []
    },
    {
      "cell_type": "markdown",
      "source": [
        "#### *4. Create the Completion Request*\n",
        "\n",
        "Send a request to the Groq model to extract the information:"
      ],
      "metadata": {
        "id": "LdwrcOZtrISD"
      }
    },
    {
      "cell_type": "code",
      "source": [
        "response = client.chat.completions.create(\n",
        "    model=\"llama3-8b-8192\",\n",
        "    messages=[\n",
        "        {\n",
        "            \"role\": \"system\",\n",
        "            \"content\": \"You are an expert legal analyst specializing in extracting key Arabic information from documents. Your task is to accurately parse and output this information in a well-structured JSON format\"\n",
        "        },\n",
        "        {\n",
        "            \"role\": \"user\",\n",
        "            \"content\": f\"Please extract the following details from the provided document:\\n\\nDocument Content:\\n\\n{markdown}\\n\\nRequired Information:\\n\\n{fields_to_extract}\"\n",
        "        }\n",
        "    ],\n",
        "    temperature=0,\n",
        "    max_tokens=512,\n",
        "    top_p=1,\n",
        "    stream=False,\n",
        "    stop=None,\n",
        "    response_format={\"type\": \"json_object\"}\n",
        ")"
      ],
      "metadata": {
        "id": "d3v1cOElp-wi"
      },
      "execution_count": 13,
      "outputs": []
    },
    {
      "cell_type": "markdown",
      "source": [
        "\n",
        "#### *5. Print the Response*\n",
        "\n",
        "Convert the JSON string response into a Python dictionary and print the extracted information:\n",
        "\n"
      ],
      "metadata": {
        "id": "-LV6FfVwrN3k"
      }
    },
    {
      "cell_type": "code",
      "source": [
        "json_string = response.choices[0].message.content\n",
        "\n",
        "# Convert JSON string to a Python dictionary\n",
        "data_extracted = json.loads(json_string)\n",
        "\n",
        "# Print the extracted information\n",
        "for key, value in data_extracted.items():\n",
        "    print(f\"{key}: {value}\")"
      ],
      "metadata": {
        "colab": {
          "base_uri": "https://localhost:8080/"
        },
        "id": "7tibWzd0qMAE",
        "outputId": "21ed224c-c3be-48f0-9df9-0f1ab8f8136c"
      },
      "execution_count": 14,
      "outputs": [
        {
          "output_type": "stream",
          "name": "stdout",
          "text": [
            "article_title: الذكاء الاصطناعي والتكنولوجيا الرقمية المستقبلية\n",
            "author: د. خالد وليد محمود\n",
            "date: 9/3/2024\n",
            "site_name: الجزيرة نت\n",
            "summary: الذكاء الاصطناعي الشغل الشاغل لغالبية حكومات الدول المتقدّمة؛ لإدراكها أن العالم يقف عند فجر حقبة جديدة، ستغيّر حياة البشرية والطريقة التي تعيش وتعمل بها في عدد كبير من المجالات والقطاعات المختلفة\n"
          ]
        }
      ]
    },
    {
      "cell_type": "markdown",
      "source": [
        "### ***Notes*** ♒\n",
        "\n",
        "- Ensure your `markdown.json` file is properly formatted, saved from the previous notebook.\n",
        "- This script is designed to extract information from Arabic documents, but it can be adapted for other languages by modifying the prompts."
      ],
      "metadata": {
        "id": "WLB7sQJ0rQKp"
      }
    }
  ]
}